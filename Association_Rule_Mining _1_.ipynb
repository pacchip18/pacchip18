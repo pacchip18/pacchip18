{
 "cells": [
  {
   "cell_type": "code",
   "execution_count": 1,
   "id": "8afaa2c5",
   "metadata": {
    "id": "8afaa2c5"
   },
   "outputs": [],
   "source": [
    "import numpy as np\n",
    "import pandas as pd\n",
    "import matplotlib.pyplot as plt\n",
    "from apyori import apriori"
   ]
  },
  {
   "cell_type": "code",
   "execution_count": 2,
   "id": "X_t6ej6EsgEu",
   "metadata": {
    "colab": {
     "base_uri": "https://localhost:8080/"
    },
    "id": "X_t6ej6EsgEu",
    "outputId": "2a0770fb-5835-4a02-f381-e21d552b9a52"
   },
   "outputs": [
    {
     "name": "stdout",
     "output_type": "stream",
     "text": [
      "Requirement already satisfied: apyori in c:\\users\\admin\\anaconda3\\lib\\site-packages (1.1.2)\n"
     ]
    }
   ],
   "source": [
    "!pip install apyori\n"
   ]
  },
  {
   "cell_type": "code",
   "execution_count": 3,
   "id": "c9f4d2ed",
   "metadata": {
    "colab": {
     "base_uri": "https://localhost:8080/",
     "height": 442
    },
    "id": "c9f4d2ed",
    "outputId": "a8fa7000-ed14-4e96-f48d-71626eb800a9"
   },
   "outputs": [
    {
     "data": {
      "text/html": [
       "<div>\n",
       "<style scoped>\n",
       "    .dataframe tbody tr th:only-of-type {\n",
       "        vertical-align: middle;\n",
       "    }\n",
       "\n",
       "    .dataframe tbody tr th {\n",
       "        vertical-align: top;\n",
       "    }\n",
       "\n",
       "    .dataframe thead th {\n",
       "        text-align: right;\n",
       "    }\n",
       "</style>\n",
       "<table border=\"1\" class=\"dataframe\">\n",
       "  <thead>\n",
       "    <tr style=\"text-align: right;\">\n",
       "      <th></th>\n",
       "      <th>Unnamed: 0</th>\n",
       "      <th>Unnamed: 1</th>\n",
       "      <th>Unnamed: 2</th>\n",
       "      <th>Unnamed: 3</th>\n",
       "      <th>Unnamed: 4</th>\n",
       "      <th>Unnamed: 5</th>\n",
       "    </tr>\n",
       "  </thead>\n",
       "  <tbody>\n",
       "    <tr>\n",
       "      <th>0</th>\n",
       "      <td>Transactions from the Database</td>\n",
       "      <td>NaN</td>\n",
       "      <td>NaN</td>\n",
       "      <td>#Transactions in which\\n the item is bought</td>\n",
       "      <td>Support</td>\n",
       "      <td>NaN</td>\n",
       "    </tr>\n",
       "    <tr>\n",
       "      <th>1</th>\n",
       "      <td>1 : { Pencils, Markers, Highlighters, Papers}</td>\n",
       "      <td>NaN</td>\n",
       "      <td>Pencils</td>\n",
       "      <td>2</td>\n",
       "      <td>0.2</td>\n",
       "      <td>NaN</td>\n",
       "    </tr>\n",
       "    <tr>\n",
       "      <th>2</th>\n",
       "      <td>2 : {Markers, Erasers}</td>\n",
       "      <td>NaN</td>\n",
       "      <td>Markers</td>\n",
       "      <td>6</td>\n",
       "      <td>0.6</td>\n",
       "      <td>NaN</td>\n",
       "    </tr>\n",
       "    <tr>\n",
       "      <th>3</th>\n",
       "      <td>3 : {Stapler Pins, Papers, Erasers, Card Holde...</td>\n",
       "      <td>NaN</td>\n",
       "      <td>Highlighters</td>\n",
       "      <td>3</td>\n",
       "      <td>0.3</td>\n",
       "      <td>NaN</td>\n",
       "    </tr>\n",
       "    <tr>\n",
       "      <th>4</th>\n",
       "      <td>4 : {Papers, Erasers, Cad Holders}</td>\n",
       "      <td>NaN</td>\n",
       "      <td>Papers</td>\n",
       "      <td>4</td>\n",
       "      <td>0.4</td>\n",
       "      <td>NaN</td>\n",
       "    </tr>\n",
       "    <tr>\n",
       "      <th>5</th>\n",
       "      <td>5 : {Markers, Post-it, Erasers}</td>\n",
       "      <td>NaN</td>\n",
       "      <td>Erasers</td>\n",
       "      <td>7</td>\n",
       "      <td>0.7</td>\n",
       "      <td>NaN</td>\n",
       "    </tr>\n",
       "    <tr>\n",
       "      <th>6</th>\n",
       "      <td>6 : {Envelop}</td>\n",
       "      <td>NaN</td>\n",
       "      <td>Stapler Pins</td>\n",
       "      <td>3</td>\n",
       "      <td>0.3</td>\n",
       "      <td>NaN</td>\n",
       "    </tr>\n",
       "    <tr>\n",
       "      <th>7</th>\n",
       "      <td>7 : {Markers, Erasers}</td>\n",
       "      <td>NaN</td>\n",
       "      <td>Card Holders</td>\n",
       "      <td>2</td>\n",
       "      <td>0.2</td>\n",
       "      <td>NaN</td>\n",
       "    </tr>\n",
       "    <tr>\n",
       "      <th>8</th>\n",
       "      <td>8 : {Pencils, Markers, StaplerPins, Post-it, H...</td>\n",
       "      <td>NaN</td>\n",
       "      <td>Post-it</td>\n",
       "      <td>3</td>\n",
       "      <td>0.3</td>\n",
       "      <td>NaN</td>\n",
       "    </tr>\n",
       "    <tr>\n",
       "      <th>9</th>\n",
       "      <td>9 : {StaplerPins, Post-it, Markers, Erasers}</td>\n",
       "      <td>NaN</td>\n",
       "      <td>Envelop</td>\n",
       "      <td>2</td>\n",
       "      <td>0.2</td>\n",
       "      <td>NaN</td>\n",
       "    </tr>\n",
       "  </tbody>\n",
       "</table>\n",
       "</div>"
      ],
      "text/plain": [
       "                                          Unnamed: 0  Unnamed: 1  \\\n",
       "0                     Transactions from the Database         NaN   \n",
       "1      1 : { Pencils, Markers, Highlighters, Papers}         NaN   \n",
       "2                             2 : {Markers, Erasers}         NaN   \n",
       "3  3 : {Stapler Pins, Papers, Erasers, Card Holde...         NaN   \n",
       "4                 4 : {Papers, Erasers, Cad Holders}         NaN   \n",
       "5                    5 : {Markers, Post-it, Erasers}         NaN   \n",
       "6                                      6 : {Envelop}         NaN   \n",
       "7                             7 : {Markers, Erasers}         NaN   \n",
       "8  8 : {Pencils, Markers, StaplerPins, Post-it, H...         NaN   \n",
       "9       9 : {StaplerPins, Post-it, Markers, Erasers}         NaN   \n",
       "\n",
       "     Unnamed: 2                                   Unnamed: 3 Unnamed: 4  \\\n",
       "0           NaN  #Transactions in which\\n the item is bought    Support   \n",
       "1       Pencils                                            2        0.2   \n",
       "2       Markers                                            6        0.6   \n",
       "3  Highlighters                                            3        0.3   \n",
       "4        Papers                                            4        0.4   \n",
       "5       Erasers                                            7        0.7   \n",
       "6  Stapler Pins                                            3        0.3   \n",
       "7  Card Holders                                            2        0.2   \n",
       "8       Post-it                                            3        0.3   \n",
       "9       Envelop                                            2        0.2   \n",
       "\n",
       "  Unnamed: 5  \n",
       "0        NaN  \n",
       "1        NaN  \n",
       "2        NaN  \n",
       "3        NaN  \n",
       "4        NaN  \n",
       "5        NaN  \n",
       "6        NaN  \n",
       "7        NaN  \n",
       "8        NaN  \n",
       "9        NaN  "
      ]
     },
     "execution_count": 3,
     "metadata": {},
     "output_type": "execute_result"
    }
   ],
   "source": [
    "retail = pd.read_csv(\"C:\\\\Users\\\\Admin\\\\Downloads\\\\Retail.csv\")\n",
    "retail.head(10)"
   ]
  },
  {
   "cell_type": "code",
   "execution_count": 8,
   "id": "50f2762d",
   "metadata": {
    "id": "50f2762d"
   },
   "outputs": [],
   "source": [
    "retail = retail.drop(['Unnamed: 1','Unnamed: 5'], axis=1)"
   ]
  },
  {
   "cell_type": "code",
   "execution_count": 9,
   "id": "59e1cbf1",
   "metadata": {
    "id": "59e1cbf1",
    "outputId": "9bedc0c4-9f00-441a-a5a9-9df6f3d3376d"
   },
   "outputs": [
    {
     "data": {
      "text/html": [
       "<div>\n",
       "<style scoped>\n",
       "    .dataframe tbody tr th:only-of-type {\n",
       "        vertical-align: middle;\n",
       "    }\n",
       "\n",
       "    .dataframe tbody tr th {\n",
       "        vertical-align: top;\n",
       "    }\n",
       "\n",
       "    .dataframe thead th {\n",
       "        text-align: right;\n",
       "    }\n",
       "</style>\n",
       "<table border=\"1\" class=\"dataframe\">\n",
       "  <thead>\n",
       "    <tr style=\"text-align: right;\">\n",
       "      <th></th>\n",
       "      <th>Unnamed: 0</th>\n",
       "      <th>Unnamed: 2</th>\n",
       "      <th>Unnamed: 3</th>\n",
       "      <th>Unnamed: 4</th>\n",
       "    </tr>\n",
       "  </thead>\n",
       "  <tbody>\n",
       "    <tr>\n",
       "      <th>0</th>\n",
       "      <td>Transactions from the Database</td>\n",
       "      <td>NaN</td>\n",
       "      <td>#Transactions in which\\n the item is bought</td>\n",
       "      <td>Support</td>\n",
       "    </tr>\n",
       "    <tr>\n",
       "      <th>1</th>\n",
       "      <td>1 : { Pencils, Markers, Highlighters, Papers}</td>\n",
       "      <td>Pencils</td>\n",
       "      <td>2</td>\n",
       "      <td>0.2</td>\n",
       "    </tr>\n",
       "    <tr>\n",
       "      <th>2</th>\n",
       "      <td>2 : {Markers, Erasers}</td>\n",
       "      <td>Markers</td>\n",
       "      <td>6</td>\n",
       "      <td>0.6</td>\n",
       "    </tr>\n",
       "    <tr>\n",
       "      <th>3</th>\n",
       "      <td>3 : {Stapler Pins, Papers, Erasers, Card Holde...</td>\n",
       "      <td>Highlighters</td>\n",
       "      <td>3</td>\n",
       "      <td>0.3</td>\n",
       "    </tr>\n",
       "    <tr>\n",
       "      <th>4</th>\n",
       "      <td>4 : {Papers, Erasers, Cad Holders}</td>\n",
       "      <td>Papers</td>\n",
       "      <td>4</td>\n",
       "      <td>0.4</td>\n",
       "    </tr>\n",
       "  </tbody>\n",
       "</table>\n",
       "</div>"
      ],
      "text/plain": [
       "                                          Unnamed: 0    Unnamed: 2  \\\n",
       "0                     Transactions from the Database           NaN   \n",
       "1      1 : { Pencils, Markers, Highlighters, Papers}       Pencils   \n",
       "2                             2 : {Markers, Erasers}       Markers   \n",
       "3  3 : {Stapler Pins, Papers, Erasers, Card Holde...  Highlighters   \n",
       "4                 4 : {Papers, Erasers, Cad Holders}        Papers   \n",
       "\n",
       "                                    Unnamed: 3 Unnamed: 4  \n",
       "0  #Transactions in which\\n the item is bought    Support  \n",
       "1                                            2        0.2  \n",
       "2                                            6        0.6  \n",
       "3                                            3        0.3  \n",
       "4                                            4        0.4  "
      ]
     },
     "execution_count": 9,
     "metadata": {},
     "output_type": "execute_result"
    }
   ],
   "source": [
    "retail.head()"
   ]
  },
  {
   "cell_type": "code",
   "execution_count": null,
   "id": "ad19bc2c",
   "metadata": {
    "id": "ad19bc2c",
    "outputId": "decc9425-02a2-4ec8-e73d-fbf40dbae1e5"
   },
   "outputs": [
    {
     "data": {
      "text/plain": [
       "(17, 4)"
      ]
     },
     "execution_count": 6,
     "metadata": {},
     "output_type": "execute_result"
    }
   ],
   "source": [
    "retail.shape"
   ]
  },
  {
   "cell_type": "code",
   "execution_count": null,
   "id": "7271684c",
   "metadata": {
    "id": "7271684c"
   },
   "outputs": [],
   "source": [
    "records = []\n",
    "for i in range(0,17):\n",
    "    records.append([str(retail.values[i,j]) for j in range(0,4)])"
   ]
  },
  {
   "cell_type": "code",
   "execution_count": null,
   "id": "2fc9696c",
   "metadata": {
    "id": "2fc9696c",
    "outputId": "d9df76c8-3369-4d4c-f24f-527ee46da3b6"
   },
   "outputs": [
    {
     "data": {
      "text/plain": [
       "['1 : { Pencils, Markers, Highlighters, Papers}', 'Pencils', '2', '0.2']"
      ]
     },
     "execution_count": 9,
     "metadata": {},
     "output_type": "execute_result"
    }
   ],
   "source": [
    "records[0]"
   ]
  },
  {
   "cell_type": "code",
   "execution_count": null,
   "id": "2cca5b2a",
   "metadata": {
    "id": "2cca5b2a"
   },
   "outputs": [],
   "source": [
    "association_rules = apriori(records,min_support=0.0055 , min_confidence = 0.2 ,min_lift = 3,min_length = 2)\n",
    "association_results = list(association_rules)"
   ]
  },
  {
   "cell_type": "code",
   "execution_count": null,
   "id": "7c79ba8b",
   "metadata": {
    "id": "7c79ba8b",
    "outputId": "9bacf95c-cad3-4d20-f476-46eac0d31cbf"
   },
   "outputs": [
    {
     "name": "stdout",
     "output_type": "stream",
     "text": [
      "113\n"
     ]
    }
   ],
   "source": [
    "print(len(association_results))"
   ]
  },
  {
   "cell_type": "code",
   "execution_count": null,
   "id": "66b2de52",
   "metadata": {
    "id": "66b2de52",
    "outputId": "c28f8443-7194-4b95-dae1-691f51add015"
   },
   "outputs": [
    {
     "name": "stdout",
     "output_type": "stream",
     "text": [
      "RelationRecord(items=frozenset({'#Transactions in which\\n the item is bought', 'Construct item-sets with items that satisfy minimum support'}), support=0.058823529411764705, ordered_statistics=[OrderedStatistic(items_base=frozenset({'#Transactions in which\\n the item is bought'}), items_add=frozenset({'Construct item-sets with items that satisfy minimum support'}), confidence=1.0, lift=17.0), OrderedStatistic(items_base=frozenset({'Construct item-sets with items that satisfy minimum support'}), items_add=frozenset({'#Transactions in which\\n the item is bought'}), confidence=1.0, lift=17.0)])\n"
     ]
    }
   ],
   "source": [
    "print(association_results[0])"
   ]
  },
  {
   "cell_type": "code",
   "execution_count": null,
   "id": "042dd2da",
   "metadata": {
    "id": "042dd2da",
    "outputId": "6aa44ce6-2f6d-4479-db46-19f4f77495c9"
   },
   "outputs": [
    {
     "name": "stdout",
     "output_type": "stream",
     "text": [
      "RelationRecord(items=frozenset({'#Transactions in which\\n the item is bought', 'Support\\nP(Markers�Erasers)'}), support=0.058823529411764705, ordered_statistics=[OrderedStatistic(items_base=frozenset({'#Transactions in which\\n the item is bought'}), items_add=frozenset({'Support\\nP(Markers�Erasers)'}), confidence=1.0, lift=17.0), OrderedStatistic(items_base=frozenset({'Support\\nP(Markers�Erasers)'}), items_add=frozenset({'#Transactions in which\\n the item is bought'}), confidence=1.0, lift=17.0)])\n"
     ]
    }
   ],
   "source": [
    "print(association_results[1])"
   ]
  },
  {
   "cell_type": "code",
   "execution_count": null,
   "id": "27a93ac8",
   "metadata": {
    "id": "27a93ac8"
   },
   "outputs": [],
   "source": []
  }
 ],
 "metadata": {
  "colab": {
   "name": "Association_Rule_Mining.ipynb",
   "provenance": []
  },
  "kernelspec": {
   "display_name": "Python 3",
   "language": "python",
   "name": "python3"
  },
  "language_info": {
   "codemirror_mode": {
    "name": "ipython",
    "version": 3
   },
   "file_extension": ".py",
   "mimetype": "text/x-python",
   "name": "python",
   "nbconvert_exporter": "python",
   "pygments_lexer": "ipython3",
   "version": "3.7.7"
  }
 },
 "nbformat": 4,
 "nbformat_minor": 5
}
